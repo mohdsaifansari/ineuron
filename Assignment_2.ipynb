{
  "nbformat": 4,
  "nbformat_minor": 0,
  "metadata": {
    "kernelspec": {
      "display_name": "Python 3",
      "language": "python",
      "name": "python3"
    },
    "language_info": {
      "codemirror_mode": {
        "name": "ipython",
        "version": 3
      },
      "file_extension": ".py",
      "mimetype": "text/x-python",
      "name": "python",
      "nbconvert_exporter": "python",
      "pygments_lexer": "ipython3",
      "version": "3.7.1"
    },
    "colab": {
      "name": "Assignment 2.ipynb",
      "provenance": []
    }
  },
  "cells": [
    {
      "cell_type": "markdown",
      "metadata": {
        "id": "PlSAwalqfBCj"
      },
      "source": [
        "### 1Q.Create the below pattern using nested for loop in Python"
      ]
    },
    {
      "cell_type": "markdown",
      "metadata": {
        "id": "VhVTd2JBfBCp"
      },
      "source": [
        "*\n",
        "* *\n",
        "* * *\n",
        "* * * *\n",
        "* * * * *\n",
        "* * * *\n",
        "* * *\n",
        "* *\n",
        "*"
      ]
    },
    {
      "cell_type": "code",
      "metadata": {
        "id": "Am3BpWYUfBCp",
        "outputId": "ca32cc47-06ec-4a09-ba3f-bd4eed9b3aed",
        "colab": {
          "base_uri": "https://localhost:8080/"
        }
      },
      "source": [
        "for i in range(0,5):\n",
        "    for j in range(0,i+1):\n",
        "        print('*',end=' ')\n",
        "    print('\\r')\n",
        "    \n",
        "for i in range(5,0,-1):\n",
        "    for j in range(0,i-1):\n",
        "        print('*',end=' ')\n",
        "    print('\\r')"
      ],
      "execution_count": 2,
      "outputs": [
        {
          "output_type": "stream",
          "text": [
            "* \r\n",
            "* * \r\n",
            "* * * \r\n",
            "* * * * \r\n",
            "* * * * * \r\n",
            "* * * * \r\n",
            "* * * \r\n",
            "* * \r\n",
            "* \r\n",
            "\r\n"
          ],
          "name": "stdout"
        }
      ]
    },
    {
      "cell_type": "markdown",
      "metadata": {
        "id": "ohacv4VCfBCr"
      },
      "source": [
        "### 2Q.Write a Python program to reverse a word after accepting the input from the user."
      ]
    },
    {
      "cell_type": "markdown",
      "metadata": {
        "id": "IW0DRq7NfBCr"
      },
      "source": [
        "Sample Output:\n",
        "Input word: ineuron\n",
        "Output: norueni"
      ]
    },
    {
      "cell_type": "code",
      "metadata": {
        "id": "WMRluallfBCr",
        "outputId": "c67ed266-4773-401f-a265-990e30151787",
        "colab": {
          "base_uri": "https://localhost:8080/"
        }
      },
      "source": [
        "give_word = input('Give a word: ')\n",
        "print(give_word[::-1])"
      ],
      "execution_count": 1,
      "outputs": [
        {
          "output_type": "stream",
          "text": [
            "Give a word: python\n",
            "nohtyp\n"
          ],
          "name": "stdout"
        }
      ]
    }
  ]
}